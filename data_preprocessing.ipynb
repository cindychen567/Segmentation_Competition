{
  "nbformat": 4,
  "nbformat_minor": 0,
  "metadata": {
    "colab": {
      "provenance": []
    },
    "kernelspec": {
      "name": "python3",
      "display_name": "Python 3"
    },
    "language_info": {
      "name": "python"
    },
    "accelerator": "GPU"
  },
  "cells": [
    {
      "cell_type": "code",
      "source": [
        "import os\n",
        "from google.colab import drive\n",
        "drive.mount(\"/content/drive\")\n",
        "os.chdir(\"/content/drive/MyDrive/Deep Learning/\")"
      ],
      "metadata": {
        "colab": {
          "base_uri": "https://localhost:8080/"
        },
        "id": "BtNbO-_wMkYW",
        "outputId": "1da5542d-0ce9-49de-9b40-0736fe7f147d"
      },
      "execution_count": null,
      "outputs": [
        {
          "output_type": "stream",
          "name": "stdout",
          "text": [
            "Drive already mounted at /content/drive; to attempt to forcibly remount, call drive.mount(\"/content/drive\", force_remount=True).\n"
          ]
        }
      ]
    },
    {
      "cell_type": "markdown",
      "source": [
        "## Import Packages"
      ],
      "metadata": {
        "id": "sCQ1ws64MoPR"
      }
    },
    {
      "cell_type": "code",
      "source": [
        "import glob\n",
        "import time\n",
        "import re\n",
        "import argparse\n",
        "import nibabel as nib\n",
        "import pandas as pd\n",
        "import numpy as np\n",
        "import matplotlib.pyplot as plt\n",
        "import shutil\n",
        "import errno"
      ],
      "metadata": {
        "id": "tMc8UAWlMmfc"
      },
      "execution_count": null,
      "outputs": []
    },
    {
      "cell_type": "markdown",
      "source": [
        "## Define Train Validation Test Split Function"
      ],
      "metadata": {
        "id": "DEBGUoSYMqob"
      }
    },
    {
      "cell_type": "code",
      "source": [
        "src_path = \"/content/drive/MyDrive/Deep Learning/SEG_Train_Datasets/msk_img/\"\n",
        "dest_path = \"/content/drive/MyDrive/Deep Learning/SEG_Train_Datasets/\""
      ],
      "metadata": {
        "id": "jHflPGvnRnkF"
      },
      "execution_count": null,
      "outputs": []
    },
    {
      "cell_type": "code",
      "execution_count": null,
      "metadata": {
        "id": "yM8lxpWhMfWq"
      },
      "outputs": [],
      "source": [
        "from IPython.core.display import Image\n",
        "def copy(src, dest):\n",
        "  \"\"\"\n",
        "  Copy function\n",
        "  \"\"\"\n",
        "  try:\n",
        "      shutil.copytree(src, dest)\n",
        "  except OSError as e:\n",
        "      # If the error was caused because the source wasn't a directory\n",
        "      if e.errno == errno.ENOTDIR:\n",
        "          shutil.copy(src, dest)\n",
        "      else:\n",
        "          print('Directory not copied. Error: %s' % e)\n",
        "\n",
        "# def generate_train_validate_test_set(src_path, dest_path):\n",
        "\"\"\"\n",
        "Split the data into 80:10:10 for train-validate-test set\n",
        "arg: path: input data path\n",
        "\"\"\"\n",
        "SPLIT_TRAIN = 0.8\n",
        "SPLIT_VALID = 0.1\n",
        "\n",
        "dest_path = os.path.join(dest_path,'dataset')\n",
        "if os.path.exists(dest_path):\n",
        "  shutil.rmtree(dest_path)\n",
        "os.makedirs(os.path.join(dest_path, 'train/image'))\n",
        "os.makedirs(os.path.join(dest_path, 'validation/image'))\n",
        "os.makedirs(os.path.join(dest_path, 'test/image'))\n",
        "os.makedirs(os.path.join(dest_path, 'train/msk_img'))\n",
        "os.makedirs(os.path.join(dest_path, 'validation/msk_img'))\n",
        "os.makedirs(os.path.join(dest_path, 'test/msk_img'))\n",
        "# print (src_path)\n",
        "# groups = next(os.walk(src_path))[1]\n",
        "# for group in groups:\n",
        "# group_path = next(os.walk(os.path.join(src_path, group)))[0]\n",
        "\n",
        "# mask_file = next(os.walk(mask_path))[2]"
      ]
    },
    {
      "cell_type": "code",
      "source": [
        "Img_file = next(os.walk(src_path))[2]\n",
        "np.random.shuffle(Img_file)\n",
        "train_ = Img_file[0:int(SPLIT_TRAIN*len(Img_file))]\n",
        "valid_ = Img_file[int(SPLIT_TRAIN*len(Img_file)):\n",
        "              int((SPLIT_TRAIN+SPLIT_VALID)*len(Img_file))]\n",
        "test_ = Img_file[int((SPLIT_TRAIN+SPLIT_VALID)*len(Img_file)):]\n",
        "\n",
        "file_path = src_path.replace(\"msk_img\" , \"Train_Images\")"
      ],
      "metadata": {
        "id": "GgiQ27vWqwO3"
      },
      "execution_count": null,
      "outputs": []
    },
    {
      "cell_type": "code",
      "source": [
        "for mask_name in train_:\n",
        "  msk_path = os.path.join(src_path, mask_name)\n",
        "  copy(msk_path, os.path.join(dest_path ,'train/msk_img', mask_name))\n",
        "  image = mask_name.replace(\"png\" , \"jpg\")\n",
        "  folder_path = os.path.join(file_path , image)\n",
        "  copy(folder_path , os.path.join(dest_path, 'train/image', image))"
      ],
      "metadata": {
        "id": "IVhd193St_h3"
      },
      "execution_count": null,
      "outputs": []
    },
    {
      "cell_type": "code",
      "source": [
        "for mask_name in valid_:\n",
        "  msk_path = os.path.join(src_path, mask_name)\n",
        "  copy(msk_path, os.path.join(dest_path ,'validation/msk_img', mask_name))\n",
        "  image = mask_name.replace(\"png\" , \"jpg\")\n",
        "  folder_path = os.path.join(file_path , image)\n",
        "  copy(folder_path , os.path.join(dest_path, 'validation/image', image))"
      ],
      "metadata": {
        "id": "i45ohy0guGfi"
      },
      "execution_count": null,
      "outputs": []
    },
    {
      "cell_type": "code",
      "source": [
        "for name in test_:\n",
        "  msk_path = os.path.join(src_path, name)\n",
        "  copy(msk_path, os.path.join(dest_path, 'test/msk_img', name))\n",
        "  image = name.replace(\"png\" , \"jpg\")\n",
        "  folder_path = os.path.join(file_path , image)\n",
        "  copy(folder_path , os.path.join(dest_path,'test/image', image))"
      ],
      "metadata": {
        "id": "5z7FYlTbuHgj"
      },
      "execution_count": null,
      "outputs": []
    },
    {
      "cell_type": "code",
      "source": [],
      "metadata": {
        "id": "DUCo6XKb0tf9"
      },
      "execution_count": null,
      "outputs": []
    }
  ]
}